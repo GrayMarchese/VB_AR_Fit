{
 "cells": [
  {
   "cell_type": "code",
   "execution_count": 1,
   "metadata": {},
   "outputs": [],
   "source": [
    "from ar import *\n",
    "from vb import *"
   ]
  },
  {
   "cell_type": "code",
   "execution_count": 2,
   "metadata": {},
   "outputs": [],
   "source": [
    "N = 3000\n",
    "True_W = [.2,0,-.4,-.2]\n",
    "Noise_Variance = 1\n",
    "order = 4\n",
    "chunking = 60"
   ]
  },
  {
   "cell_type": "code",
   "execution_count": 45,
   "metadata": {},
   "outputs": [
    {
     "name": "stdout",
     "output_type": "stream",
     "text": [
      "1 -100.66060309667287\n",
      "2 -100.91983296069208\n",
      "3 -94.50285868877546\n",
      "4 -90.67185611616016\n",
      "5 -92.51748696740123\n",
      "6 -91.83262396063601\n",
      "7 -93.61811993882007\n"
     ]
    }
   ],
   "source": [
    "ts = generate_ar(N,True_W,Noise_Variance,500)\n",
    "\n",
    "for order in range(1,8):\n",
    "    W, updates, F = test_vb_ar_fit(ts,order,chunking)\n",
    "    print(order, F)"
   ]
  },
  {
   "cell_type": "code",
   "execution_count": null,
   "metadata": {},
   "outputs": [],
   "source": []
  },
  {
   "cell_type": "code",
   "execution_count": null,
   "metadata": {},
   "outputs": [],
   "source": []
  },
  {
   "cell_type": "code",
   "execution_count": null,
   "metadata": {},
   "outputs": [],
   "source": []
  }
 ],
 "metadata": {
  "kernelspec": {
   "display_name": "Python 3",
   "language": "python",
   "name": "python3"
  },
  "language_info": {
   "codemirror_mode": {
    "name": "ipython",
    "version": 3
   },
   "file_extension": ".py",
   "mimetype": "text/x-python",
   "name": "python",
   "nbconvert_exporter": "python",
   "pygments_lexer": "ipython3",
   "version": "3.6.4"
  }
 },
 "nbformat": 4,
 "nbformat_minor": 2
}
