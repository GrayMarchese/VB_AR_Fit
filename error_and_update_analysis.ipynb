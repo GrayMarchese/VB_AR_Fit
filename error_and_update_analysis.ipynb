{
 "cells": [
  {
   "cell_type": "code",
   "execution_count": 2,
   "metadata": {},
   "outputs": [],
   "source": [
    "from ar import *\n",
    "from vb import *\n",
    "import numpy as np\n",
    "from numpy import linalg"
   ]
  },
  {
   "cell_type": "code",
   "execution_count": 19,
   "metadata": {},
   "outputs": [
    {
     "name": "stdout",
     "output_type": "stream",
     "text": [
      "Average % Error:  0.462\n",
      "Average # Updates:  13.770\n"
     ]
    }
   ],
   "source": [
    "True_W = [.2, 0, -.4, -.2]\n",
    "\n",
    "N = 300\n",
    "avg_err = 0\n",
    "avg_updates = 0\n",
    "for t in range(N):\n",
    "    # Time series is 3000 observations, burned in 500 observations.\n",
    "    # The noise is a standard normal (Variance = 1)\n",
    "    ts = generate_ar(3000,True_W,1,500)\n",
    "    # Assume we know the true order\n",
    "    # Our updates take evidence 50 observations at a time.\n",
    "    W, updates, F = test_vb_ar_fit(ts,len(True_W),50)\n",
    "    W = np.squeeze(np.asarray(W))\n",
    "    err = linalg.norm(W - np.array(True_W))/linalg.norm(np.array(True_W))\n",
    "    avg_err = avg_err + err\n",
    "    avg_updates = avg_updates + updates\n",
    "avg_err = avg_err/N\n",
    "avg_updates = avg_updates/N\n",
    "\n",
    "print('Average % Error: {0: .3f}'.format(avg_err))\n",
    "print('Average # Updates: {0: .3f}'.format(avg_updates))"
   ]
  }
 ],
 "metadata": {
  "kernelspec": {
   "display_name": "Python 3",
   "language": "python",
   "name": "python3"
  },
  "language_info": {
   "codemirror_mode": {
    "name": "ipython",
    "version": 3
   },
   "file_extension": ".py",
   "mimetype": "text/x-python",
   "name": "python",
   "nbconvert_exporter": "python",
   "pygments_lexer": "ipython3",
   "version": "3.6.4"
  }
 },
 "nbformat": 4,
 "nbformat_minor": 2
}
