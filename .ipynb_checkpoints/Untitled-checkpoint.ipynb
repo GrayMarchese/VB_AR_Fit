{
 "cells": [
  {
   "cell_type": "code",
   "execution_count": 1,
   "metadata": {},
   "outputs": [],
   "source": [
    "from ar import *\n",
    "from vb import *"
   ]
  },
  {
   "cell_type": "code",
   "execution_count": 4,
   "metadata": {},
   "outputs": [],
   "source": [
    "N = 3000\n",
    "True_W = [.2,0,-.4,0.1,-.2]\n",
    "Noise_Variance = 1\n",
    "order = 4\n",
    "chunking = 50"
   ]
  },
  {
   "cell_type": "code",
   "execution_count": 5,
   "metadata": {},
   "outputs": [
    {
     "name": "stdout",
     "output_type": "stream",
     "text": [
      "1 -86.49618221730111\n",
      "2 -87.20459672104016\n",
      "3 -79.88572225831936\n",
      "4 -83.99965368840488\n",
      "5 -87.05751510488268\n",
      "6 -90.11777941489312\n",
      "7 -93.1549432498088\n"
     ]
    }
   ],
   "source": [
    "ts = generate_ar(N,True_W,Noise_Variance,500)\n",
    "\n",
    "for order in range(1,8):\n",
    "    W, updates, F = test_vb_ar_fit(ts,order,chunking)\n",
    "    print(order, F)"
   ]
  },
  {
   "cell_type": "code",
   "execution_count": null,
   "metadata": {},
   "outputs": [],
   "source": []
  },
  {
   "cell_type": "code",
   "execution_count": null,
   "metadata": {},
   "outputs": [],
   "source": []
  },
  {
   "cell_type": "code",
   "execution_count": null,
   "metadata": {},
   "outputs": [],
   "source": []
  }
 ],
 "metadata": {
  "kernelspec": {
   "display_name": "Python 3",
   "language": "python",
   "name": "python3"
  },
  "language_info": {
   "codemirror_mode": {
    "name": "ipython",
    "version": 3
   },
   "file_extension": ".py",
   "mimetype": "text/x-python",
   "name": "python",
   "nbconvert_exporter": "python",
   "pygments_lexer": "ipython3",
   "version": "3.6.4"
  }
 },
 "nbformat": 4,
 "nbformat_minor": 2
}
